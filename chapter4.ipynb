{
 "cells": [
  {
   "cell_type": "code",
   "execution_count": 1,
   "metadata": {
    "collapsed": true
   },
   "outputs": [],
   "source": [
    "from sympy import *\n",
    "import numpy as np\n",
    "import transformations\n",
    "import matplotlib.pyplot as plt "
   ]
  },
  {
   "cell_type": "code",
   "execution_count": 2,
   "metadata": {
    "collapsed": true
   },
   "outputs": [],
   "source": [
    "q1, q2, q3, q4, q5, q6 = symbols('q1:7')\n",
    "l1, l2, l3, l4, l5, l6 = symbols('l1:7')\n",
    "qdot_1, qdot_2, qdot_3, qdot_4, qdot_5, qdot_6 = symbols('qdot_1:7')\n",
    "\n",
    "def skew(vec):\n",
    "    return Matrix([[      0, -vec[2], vec[1]],\n",
    "                   [ vec[2],       0,-vec[0]],\n",
    "                   [-vec[1],  vec[0],     0]])\n",
    "\n",
    "def homo_trans(a, alpha, d, q):\n",
    "    return Matrix([[           cos(q),           -sin(q),           0,             a],\n",
    "                   [sin(q)*cos(alpha), cos(alpha)*cos(q), -sin(alpha), -d*sin(alpha)],\n",
    "                   [sin(alpha)*sin(q), sin(alpha)*cos(q),  cos(alpha),  d*cos(alpha)],\n",
    "                   [                0,                 0,           0,             1]])\n",
    "\n",
    "def rot_z(q):\n",
    "    return Matrix([[cos(q), -sin(q), 0],\n",
    "                   [sin(q),  cos(q), 0],\n",
    "                   [     0,       0, 1]])\n",
    "def trans(x, y, z):\n",
    "    return Matrix([[x],\n",
    "                   [y],\n",
    "                   [z]])"
   ]
  },
  {
   "cell_type": "markdown",
   "metadata": {},
   "source": [
    "# Matlab Exercise"
   ]
  },
  {
   "cell_type": "code",
   "execution_count": 3,
   "metadata": {
    "collapsed": true
   },
   "outputs": [],
   "source": [
    "L1 = 4\n",
    "L2 = 3\n",
    "L3 = 2\n",
    "\n",
    "T01 = homo_trans(0.0, 0.0, 0.0, q1)\n",
    "T12 = homo_trans( L1, 0.0, 0.0, q2)\n",
    "T23 = homo_trans( L2, 0.0, 0.0, q3)\n",
    "T34 = homo_trans( L3, 0.0, 0.0,0.0)\n",
    "T04 = simplify(T01*T12*T23*T34)"
   ]
  },
  {
   "cell_type": "code",
   "execution_count": 4,
   "metadata": {},
   "outputs": [
    {
     "data": {
      "text/plain": [
       "Matrix([\n",
       "[cos(q1 + q2 + q3), -sin(q1 + q2 + q3), 0, 4*cos(q1) + 3*cos(q1 + q2) + 2*cos(q1 + q2 + q3)],\n",
       "[sin(q1 + q2 + q3),  cos(q1 + q2 + q3), 0, 4*sin(q1) + 3*sin(q1 + q2) + 2*sin(q1 + q2 + q3)],\n",
       "[                0,                  0, 1,                                                0],\n",
       "[                0,                  0, 0,                                                1]])"
      ]
     },
     "execution_count": 4,
     "metadata": {},
     "output_type": "execute_result"
    }
   ],
   "source": [
    "T04"
   ]
  },
  {
   "cell_type": "code",
   "execution_count": 120,
   "metadata": {},
   "outputs": [],
   "source": [
    "# inverse kinematics for 3R arm \n",
    "# just elbow up solution\n",
    "def ik(T):\n",
    "    q1 = q2 = q3 = None\n",
    "    L1 = 4\n",
    "    L2 = 3\n",
    "    L3 = 2\n",
    "    T34 = Matrix([[1, 0, 0, 2],\n",
    "                  [0, 1, 0, 0],\n",
    "                  [0, 0, 1, 0],\n",
    "                  [0, 0, 0, 1]])\n",
    "    ### two ways to calculate P02\n",
    "    #P02 = T[:3,3] - L3*T[:3,0]\n",
    "    P02 = (T*T34.inv())[:3,3]    \n",
    "    P02_norm = sqrt(P02[0]**2 + P02[1]**2 + P02[2]**2)\n",
    "    \n",
    "    ### theta1\n",
    "    beta1 = atan2(P02[1],P02[0])\n",
    "    beta2 = acos((L1**2 + P02_norm**2 - L2**2)/(2*L1*P02_norm))\n",
    "    q1 = beta1 - beta2\n",
    "    ### theta2\n",
    "    alpha = acos((L1**2 + L2**2 - P02_norm**2)/(2*L1*L2))\n",
    "    q2 = pi - alpha\n",
    "    ### theta3\n",
    "    psi = atan2(T[1,0],T[0,0])\n",
    "    q3 = psi - q1 - q2\n",
    "    return [((q1*180/pi)%360).evalf(), ((q2*180/pi)%360).evalf(), ((q3*180/pi)%360).evalf()]"
   ]
  },
  {
   "cell_type": "code",
   "execution_count": 121,
   "metadata": {},
   "outputs": [
    {
     "data": {
      "text/plain": [
       "[0, 0, 0]"
      ]
     },
     "execution_count": 121,
     "metadata": {},
     "output_type": "execute_result"
    }
   ],
   "source": [
    "T0H = Matrix([[1, 0, 0, 9],\n",
    "              [0, 1, 0, 0],\n",
    "              [0, 0, 1, 0],\n",
    "              [0, 0, 0, 1]])\n",
    "ik(T0H)"
   ]
  },
  {
   "cell_type": "code",
   "execution_count": 122,
   "metadata": {},
   "outputs": [
    {
     "data": {
      "text/plain": [
       "[9.99989065325459, 20.0004358927991, 29.9989456731190]"
      ]
     },
     "execution_count": 122,
     "metadata": {},
     "output_type": "execute_result"
    }
   ],
   "source": [
    "T0H = Matrix([[  0.5, -0.866, 0, 7.5373],\n",
    "              [0.866,    0.5, 0, 3.9266],\n",
    "              [    0,      0, 1,      0],\n",
    "              [    0,      0, 0,      1]])\n",
    "ik(T0H)"
   ]
  },
  {
   "cell_type": "code",
   "execution_count": 118,
   "metadata": {},
   "outputs": [
    {
     "name": "stdout",
     "output_type": "stream",
     "text": [
      "1.48612099119835\n",
      "-1.12518473527389 + pi   0.949905085611975*I   3.14159265358979 - 2.12554153609966*I   -0.523611477769969\n"
     ]
    },
    {
     "data": {
      "text/plain": [
       "[Mod(1.0*(-202.5332523493 + 180*pi - 170.982915410155*I)/pi, 360),\n",
       " Mod(1.0*(-565.486677646163 + 180*pi + 382.597476497938*I)/pi, 360),\n",
       " Mod(1.0*(-360*pi + 673.769863996868 - 211.614561087782*I)/pi, 360)]"
      ]
     },
     "execution_count": 118,
     "metadata": {},
     "output_type": "execute_result"
    }
   ],
   "source": [
    "######### solution doesn't exist #############\n",
    "T0H = Matrix([[0.866,   0.5, 0, -3.1245],\n",
    "              [ -0.5, 0.866, 0,  9.1674],\n",
    "              [    0,     0, 1,       0],\n",
    "              [    0,     0, 0,       1]])\n",
    "ik(T0H)\n",
    "######### solution doesn't exist #############"
   ]
  },
  {
   "cell_type": "code",
   "execution_count": 123,
   "metadata": {},
   "outputs": [
    {
     "data": {
      "text/plain": [
       "[90.0000000000000, 90.0000000000000, 90.0000000000000]"
      ]
     },
     "execution_count": 123,
     "metadata": {},
     "output_type": "execute_result"
    }
   ],
   "source": [
    "T0H = Matrix([[ 0, 1, 0, -3],\n",
    "              [-1, 0, 0,  2],\n",
    "              [ 0, 0, 1,  0],\n",
    "              [ 0, 0, 0,  1]])\n",
    "ik(T0H)"
   ]
  },
  {
   "cell_type": "code",
   "execution_count": null,
   "metadata": {
    "collapsed": true
   },
   "outputs": [],
   "source": []
  }
 ],
 "metadata": {
  "kernelspec": {
   "display_name": "Python 3",
   "language": "python",
   "name": "python3"
  },
  "language_info": {
   "codemirror_mode": {
    "name": "ipython",
    "version": 3
   },
   "file_extension": ".py",
   "mimetype": "text/x-python",
   "name": "python",
   "nbconvert_exporter": "python",
   "pygments_lexer": "ipython3",
   "version": "3.5.3"
  },
  "widgets": {
   "state": {},
   "version": "1.1.2"
  }
 },
 "nbformat": 4,
 "nbformat_minor": 2
}
