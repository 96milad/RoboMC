{
 "cells": [
  {
   "cell_type": "code",
   "execution_count": 1,
   "metadata": {
    "collapsed": true
   },
   "outputs": [],
   "source": [
    "from sympy import *\n",
    "import numpy as np\n",
    "import transformations\n",
    "import matplotlib.pyplot as plt \n",
    "from scipy.integrate import odeint"
   ]
  },
  {
   "cell_type": "code",
   "execution_count": 21,
   "metadata": {
    "collapsed": true
   },
   "outputs": [],
   "source": [
    "q1, q2, q3, q4, q5, q6 = symbols('q1:7')\n",
    "l1, l2, l3, l4, l5, l6 = symbols('l1:7')\n",
    "qdot_1, qdot_2, qdot_3, qdot_4, qdot_5, qdot_6 = symbols('qdot_1:7')\n",
    "\n",
    "def skew(vec):\n",
    "    return Matrix([[      0, -vec[2], vec[1]],\n",
    "                   [ vec[2],       0,-vec[0]],\n",
    "                   [-vec[1],  vec[0],     0]])\n",
    "\n",
    "def homo_trans(a, alpha, d, q):\n",
    "    return Matrix([[           cos(q),           -sin(q),           0,             a],\n",
    "                   [sin(q)*cos(alpha), cos(alpha)*cos(q), -sin(alpha), -d*sin(alpha)],\n",
    "                   [sin(alpha)*sin(q), sin(alpha)*cos(q),  cos(alpha),  d*cos(alpha)],\n",
    "                   [                0,                 0,           0,             1]])\n",
    "\n",
    "def rot_z(q):\n",
    "    return Matrix([[cos(q), -sin(q), 0],\n",
    "                   [sin(q),  cos(q), 0],\n",
    "                   [     0,       0, 1]])\n",
    "def trans(x, y, z):\n",
    "    return Matrix([[x],\n",
    "                   [y],\n",
    "                   [z]])\n",
    "\n",
    "R01 = rot_z(q1)\n",
    "R12 = rot_z(q2)\n",
    "R23 = rot_z(0.0)\n",
    "P = trans(sin(q2)*l1*qdot_1, cos(q2)*l1*qdot_1 + l2*(qdot_1 + qdot_2), 0)"
   ]
  },
  {
   "cell_type": "code",
   "execution_count": 22,
   "metadata": {},
   "outputs": [
    {
     "name": "stdout",
     "output_type": "stream",
     "text": [
      "⎡-l₁⋅q̇₁⋅sin(q₁) - l₂⋅q̇₁⋅sin(q₁ + q₂) - l₂⋅q̇₂⋅sin(q₁ + q₂)⎤\n",
      "⎢                                                           ⎥\n",
      "⎢l₁⋅q̇₁⋅cos(q₁) + l₂⋅q̇₁⋅cos(q₁ + q₂) + l₂⋅q̇₂⋅cos(q₁ + q₂) ⎥\n",
      "⎢                                                           ⎥\n",
      "⎣                             0                             ⎦\n"
     ]
    }
   ],
   "source": [
    "v03 = R01*R12*R23*P\n",
    "print(pretty(simplify(v03)))"
   ]
  },
  {
   "cell_type": "markdown",
   "metadata": {},
   "source": [
    "# E5.1"
   ]
  },
  {
   "cell_type": "code",
   "execution_count": 13,
   "metadata": {},
   "outputs": [
    {
     "name": "stdout",
     "output_type": "stream",
     "text": [
      "⎡             l₂⋅q̇₂⋅sin(q₃)             ⎤\n",
      "⎢                                        ⎥\n",
      "⎢    l₂⋅q̇₂⋅cos(q₃) + l₃⋅(q̇₂ + q̇₃)     ⎥\n",
      "⎢                                        ⎥\n",
      "⎣-q̇₁⋅(l₁ + l₂⋅cos(q₂) + l₃⋅cos(q₂ + q₃))⎦\n"
     ]
    }
   ],
   "source": [
    "def vii(R, P, v, w):\n",
    "    return simplify(R*(v + skew(w)*P))\n",
    "\n",
    "def wii(R,w,qdot,Z):\n",
    "    return simplify(R*w + qdot*Z)\n",
    "\n",
    "\n",
    "T01 = homo_trans(0, 0, 0, q1)\n",
    "T12 = homo_trans(l1, pi/2, 0, q2)\n",
    "T23 = homo_trans(l2, 0, 0, q3)\n",
    "T34 = homo_trans(l3, 0, 0, 0)\n",
    "\n",
    "Z = trans(0, 0, 1)\n",
    "\n",
    "R21 = (T12[:3,:3]).inv()\n",
    "R32 = (T23[:3,:3]).inv()\n",
    "R43 = (T34[:3,:3]).inv()\n",
    "\n",
    "P12 = trans(l1, 0, 0) \n",
    "P23 = trans(l2, 0, 0)\n",
    "P34 = trans(l3, 0, 0)\n",
    "\n",
    "v00 = trans(0, 0, 0)\n",
    "w00 = trans(0, 0, 0) \n",
    "\n",
    "v11 = trans(0, 0, 0)\n",
    "w11 = trans(0, 0, qdot_1)\n",
    "\n",
    "v22 = vii(R21, P12, v11, w11)#simplify(R21*skew(w11)*P12)\n",
    "w22 = wii(R21, w11, qdot_2, Z)#simplify(R21*w11 + trans(0, 0, qdot_2))\n",
    "\n",
    "v33 = vii(R32, P23, v22, w22)\n",
    "w33 = wii(R32, w22, qdot_3, Z)\n",
    "\n",
    "v44 = vii(R43, P34, v33, w33)\n",
    "w44 = wii(R43, w33, 0, Z)\n",
    "#print(pretty(v33))\n",
    "pretty_print(v44)\n",
    "#pretty_print(w44)"
   ]
  },
  {
   "cell_type": "markdown",
   "metadata": {},
   "source": [
    "# E5.3"
   ]
  },
  {
   "cell_type": "code",
   "execution_count": 14,
   "metadata": {},
   "outputs": [
    {
     "name": "stdout",
     "output_type": "stream",
     "text": [
      "⎡(l₁ + l₂⋅cos(q₂) + l₃⋅cos(q₂ + q₃))⋅cos(q₁)⎤\n",
      "⎢                                           ⎥\n",
      "⎢(l₁ + l₂⋅cos(q₂) + l₃⋅cos(q₂ + q₃))⋅sin(q₁)⎥\n",
      "⎢                                           ⎥\n",
      "⎣       l₂⋅sin(q₂) + l₃⋅sin(q₂ + q₃)        ⎦\n"
     ]
    }
   ],
   "source": [
    "T04 = simplify(T01*T12*T23*T34)\n",
    "pretty_print(T04[:3,3])"
   ]
  },
  {
   "cell_type": "code",
   "execution_count": 15,
   "metadata": {},
   "outputs": [
    {
     "name": "stdout",
     "output_type": "stream",
     "text": [
      "⎡                0                     l₂⋅sin(q₃)     0 ⎤\n",
      "⎢                                                       ⎥\n",
      "⎢                0                   l₂⋅cos(q₃) + l₃  l₃⎥\n",
      "⎢                                                       ⎥\n",
      "⎣-l₁ - l₂⋅cos(q₂) - l₃⋅cos(q₂ + q₃)         0         0 ⎦\n"
     ]
    }
   ],
   "source": [
    "J0 = (T04[:3,3]).jacobian([q1, q2, q3])\n",
    "R40 = simplify(T04[:3,:3].inv())\n",
    "J4 = simplify(R40*J0)\n",
    "#print(R40)\n",
    "pretty_print(J4)"
   ]
  },
  {
   "cell_type": "markdown",
   "metadata": {
    "collapsed": true
   },
   "source": [
    "# E5.5"
   ]
  },
  {
   "cell_type": "code",
   "execution_count": 16,
   "metadata": {
    "collapsed": true
   },
   "outputs": [],
   "source": [
    "## PUMA 560 from RoboMC\n",
    "a2, a3 = symbols('a2:4')\n",
    "d3, d4 = symbols('d3:5')\n",
    "T01 = homo_trans(0, 0, 0, q1)\n",
    "T12 = homo_trans(0, -pi/2, 0, q2)\n",
    "T23 = homo_trans(a2, 0, d3, q3)\n",
    "T34 = homo_trans(a3, -pi/2, d4, q4)\n",
    "T45 = homo_trans(0, pi/2, 0, q5)\n",
    "T56 = homo_trans(0, -pi/2, 0, q6)\n",
    "\n",
    "T06 = simplify(T01*T12*T23*T34*T45*T56)"
   ]
  },
  {
   "cell_type": "code",
   "execution_count": null,
   "metadata": {
    "collapsed": true
   },
   "outputs": [],
   "source": [
    "#pretty_print(simplify(T06[0,3]))"
   ]
  },
  {
   "cell_type": "code",
   "execution_count": 18,
   "metadata": {
    "collapsed": true
   },
   "outputs": [],
   "source": [
    "P06 = T06[:3,3]\n",
    "R60 = (T06[:3,:3]).inv()\n",
    "# J0 = P06.jacobian([q1, q2, q3, q4, q5, q6])\n",
    "# J6 = simplify(R60*J0)\n",
    "#pretty_print(R60)"
   ]
  },
  {
   "cell_type": "markdown",
   "metadata": {},
   "source": [
    "# E5.6 "
   ]
  },
  {
   "cell_type": "code",
   "execution_count": null,
   "metadata": {},
   "outputs": [],
   "source": [
    "d1, d2, d3 = symbols('d1:4')\n",
    "a1, a2, a3 = symbols('a1:4')\n",
    "alpha1, alpha2, alpha3 = symbols('alpha1:4') \n",
    "T01 = homo_trans(a1, alpha1,  d1, q1)\n",
    "T12 = homo_trans(a2, alpha2,  d2, q2)\n",
    "T23 = homo_trans(a3, alpha3,  d3, q3)\n",
    "\n",
    "T03 = simplify(T01*T12*T23)"
   ]
  },
  {
   "cell_type": "code",
   "execution_count": null,
   "metadata": {
    "collapsed": true
   },
   "outputs": [],
   "source": [
    "P03 = T03[:3,3]\n",
    "J0 = P03.jacobian([q1, q2, q3])"
   ]
  },
  {
   "cell_type": "code",
   "execution_count": null,
   "metadata": {
    "collapsed": true
   },
   "outputs": [],
   "source": []
  },
  {
   "cell_type": "markdown",
   "metadata": {},
   "source": [
    "# E5.8 "
   ]
  },
  {
   "cell_type": "code",
   "execution_count": null,
   "metadata": {
    "collapsed": true
   },
   "outputs": [],
   "source": [
    "pretty_print(simplify((-l1*sin(q1)-l2*sin(q1+q2))*(-l2*sin(q1+q2)) + (l1*cos(q1)+l2*cos(q1+q2))*(l2*cos(q1+q2))))"
   ]
  },
  {
   "cell_type": "markdown",
   "metadata": {},
   "source": [
    "# E5.11 "
   ]
  },
  {
   "cell_type": "code",
   "execution_count": null,
   "metadata": {
    "collapsed": true
   },
   "outputs": [],
   "source": [
    "zeros(6)"
   ]
  },
  {
   "cell_type": "code",
   "execution_count": null,
   "metadata": {
    "collapsed": true
   },
   "outputs": [],
   "source": [
    "def adjoint(T):\n",
    "    Ad = zeros(6)\n",
    "    Ad[:3,:3] = T[:3,:3]\n",
    "    Ad[3:,3:] = T[:3,:3]\n",
    "    Ad[:3,3:] = skew(T[:3,3])*T[:3,:3]\n",
    "    return Ad\n",
    "vA = Matrix([[0.0],[2],[-3],[1.414],[1.414],[0]])\n",
    "TBA = Matrix([[0.866,  -0.5, 0.0, 10],\n",
    "              [  0.5, 0.866, 0.0,0.0],\n",
    "              [  0.0,   0.0, 1.0,  5],\n",
    "              [  0.0,   0.0, 0.0,  1]])\n",
    "ad = adjoint(TBA.inv())\n",
    "vB = ad*vA"
   ]
  },
  {
   "cell_type": "code",
   "execution_count": null,
   "metadata": {
    "collapsed": true
   },
   "outputs": [],
   "source": [
    "pretty_print(ad)\n",
    "pretty_print(vB)"
   ]
  },
  {
   "cell_type": "markdown",
   "metadata": {},
   "source": [
    "# matlab Excersie "
   ]
  },
  {
   "cell_type": "code",
   "execution_count": 72,
   "metadata": {
    "collapsed": true
   },
   "outputs": [],
   "source": [
    "%matplotlib inline\n",
    "def Jacobian(theta):\n",
    "    q1 = theta[0] \n",
    "    q2 = theta[1]\n",
    "    q3 = theta[2]\n",
    "    l1 = 4\n",
    "    l2 = 3\n",
    "    l3 = 2\n",
    "    return np.array([[-l1*np.sin(q1) -l2*sin(q1+q2) -l3*sin(q1+q2+q3), -l2*sin(q1+q2) -l3*sin(q1+q2+q3), -l3*sin(q1+q2+q3)],\n",
    "                     [  l1*cos(q1) + l2*cos(q1+q2) + l3*cos(q1+q2+q3), l2*cos(q1+q2) + l3*cos(q1+q2+q3),  l3*cos(q1+q2+q3)],\n",
    "                     [                                              1,                                1,                 1]],dtype=np.float)\n",
    "\n",
    "def rot(y, t):\n",
    "    xdot = np.array([[0.2],[-0.3],[-0.2]])\n",
    "    dydt = np.dot(np.linalg.pinv(Jacobian(y)), xdot).reshape((3,))\n",
    "    return dydt\n",
    "\n",
    "def fk(q1, q2, q3):\n",
    "    l1 = 4\n",
    "    l2 = 3\n",
    "    l3 = 2\n",
    "    return np.array([[4*np.cos(q1) + 3*np.cos(q1 + q2) + 2*np.cos(q1 + q2 + q3)],\n",
    "                     [4*np.sin(q1) + 3*np.sin(q1 + q2) + 2*np.sin(q1 + q2 + q3)],\n",
    "                     [          q1 +                q2 +                     q3]],dtype=np.float64)"
   ]
  },
  {
   "cell_type": "code",
   "execution_count": 70,
   "metadata": {
    "collapsed": true
   },
   "outputs": [],
   "source": [
    "t0 = 0\n",
    "t1 = 5\n",
    "dt = 0.1\n",
    "tspan = np.arange(t0, t1, dt)\n",
    "xdot = np.array([[0.2],[-0.3],[-0.2]])\n",
    "y0 = np.deg2rad(np.array([[10], [20], [30]]))\n",
    "y = y0.copy()\n",
    "ys = y0.copy()\n",
    "J = []\n",
    "J.append(np.linalg.det(Jacobian(y[:, 0])))\n",
    "for t in tspan[1:]:\n",
    "    dydt = np.dot(np.linalg.pinv(Jacobian(y[:, 0])), xdot).reshape((3,1))\n",
    "    y += dydt * dt\n",
    "    ys = np.hstack((ys, y))\n",
    "    J.append(np.linalg.det(Jacobian(y[:, 0])))\n",
    "ys = np.rad2deg(ys.T)"
   ]
  },
  {
   "cell_type": "code",
   "execution_count": 64,
   "metadata": {},
   "outputs": [
    {
     "data": {
      "image/png": "[encoded data removed]",
      "text/plain": [
       "<matplotlib.figure.Figure at 0x7f8fbddd9908>"
      ]
     },
     "metadata": {},
     "output_type": "display_data"
    }
   ],
   "source": [
    "plt.plot(tspan, ys[:,0], tspan, ys[:,1], tspan, ys[:,2])\n",
    "plt.grid(true)"
   ]
  },
  {
   "cell_type": "code",
   "execution_count": 71,
   "metadata": {},
   "outputs": [
    {
     "data": {
      "text/plain": [
       "[<matplotlib.lines.Line2D at 0x7f8fbd529b38>]"
      ]
     },
     "execution_count": 71,
     "metadata": {},
     "output_type": "execute_result"
    },
    {
     "data": {
      "image/png": "[encoded data removed]",
      "text/plain": [
       "<matplotlib.figure.Figure at 0x7f8fbd5729b0>"
      ]
     },
     "metadata": {},
     "output_type": "display_data"
    }
   ],
   "source": [
    "plt.plot(tspan, J)\n"
   ]
  },
  {
   "cell_type": "code",
   "execution_count": 87,
   "metadata": {
    "collapsed": true
   },
   "outputs": [],
   "source": [
    "ys = np.deg2rad(ys)\n",
    "x, y, th = fk(ys[:, 0], ys[:, 1], ys[:, 2])\n",
    "x, y, th = x.T, y.T, th.T"
   ]
  },
  {
   "cell_type": "code",
   "execution_count": 89,
   "metadata": {},
   "outputs": [
    {
     "data": {
      "image/png": "[encoded data removed]",
      "text/plain": [
       "<matplotlib.figure.Figure at 0x7f8fbdacc2e8>"
      ]
     },
     "metadata": {},
     "output_type": "display_data"
    }
   ],
   "source": [
    "plt.plot(tspan, x, tspan, y, tspan, th)\n",
    "plt.grid(true)"
   ]
  },
  {
   "cell_type": "code",
   "execution_count": 100,
   "metadata": {
    "collapsed": true
   },
   "outputs": [],
   "source": [
    "y0 = np.deg2rad(np.array([10, 20, 30]))\n",
    "t = np.arange(0, 5, 0.1)\n",
    "sol = odeint(rot, y0, t)\n",
    "sol_deg = np.rad2deg(sol)"
   ]
  },
  {
   "cell_type": "code",
   "execution_count": 101,
   "metadata": {},
   "outputs": [
    {
     "data": {
      "image/png": "[encoded data removed]",
      "text/plain": [
       "<matplotlib.figure.Figure at 0x7f8fbd30ecf8>"
      ]
     },
     "metadata": {},
     "output_type": "display_data"
    }
   ],
   "source": [
    "plt.plot(t, sol_deg[:,0], t, sol_deg[:,1], t, sol_deg[:,2])\n",
    "plt.grid(true)"
   ]
  },
  {
   "cell_type": "code",
   "execution_count": 102,
   "metadata": {
    "collapsed": true
   },
   "outputs": [],
   "source": [
    "x, y, th = fk(sol[:, 0], sol[:, 1], sol[:, 2])\n",
    "x, y, th = x.T, y.T, th.T"
   ]
  },
  {
   "cell_type": "code",
   "execution_count": 103,
   "metadata": {},
   "outputs": [
    {
     "data": {
      "image/png": "[encoded data removed]",
      "text/plain": [
       "<matplotlib.figure.Figure at 0x7f8fbd2d8160>"
      ]
     },
     "metadata": {},
     "output_type": "display_data"
    }
   ],
   "source": [
    "plt.plot(tspan, x, tspan, y, tspan, th)\n",
    "plt.grid(true)"
   ]
  },
  {
   "cell_type": "markdown",
   "metadata": {
    "collapsed": true
   },
   "source": [
    "T01 = homo_trans(0, 0, 0, q1)\n",
    "T12 = homo_trans(4, 0, 0, q2)\n",
    "T23 = homo_trans(3, 0, 0, q3)\n",
    "T34 = homo_trans(2, 0, 0,  0)\n",
    "\n",
    "T04 = simplify(T01*T12*T23*T34)\n",
    "P04 = T04[:2,3]\n"
   ]
  },
  {
   "cell_type": "code",
   "execution_count": 24,
   "metadata": {},
   "outputs": [
    {
     "name": "stdout",
     "output_type": "stream",
     "text": [
      "⎡-4⋅sin(q₁) - 3⋅sin(q₁ + q₂)  -3⋅sin(q₁ + q₂)  0⎤\n",
      "⎢                                               ⎥\n",
      "⎢4⋅cos(q₁) + 3⋅cos(q₁ + q₂)   3⋅cos(q₁ + q₂)   0⎥\n",
      "⎢                                               ⎥\n",
      "⎣             0                      0         0⎦\n"
     ]
    }
   ],
   "source": [
    "#pretty_print(P04)\n",
    "pretty_print(P04.jacobian([q1, q2, q3]))"
   ]
  },
  {
   "cell_type": "code",
   "execution_count": null,
   "metadata": {
    "collapsed": true
   },
   "outputs": [],
   "source": []
  },
  {
   "cell_type": "markdown",
   "metadata": {},
   "source": [
    "# shitty thing I'm working on IK using gredient decent "
   ]
  },
  {
   "cell_type": "code",
   "execution_count": 93,
   "metadata": {},
   "outputs": [
    {
     "name": "stdout",
     "output_type": "stream",
     "text": [
      "Matrix([\n",
      "[4.96410161513775],\n",
      "[6.59807621135332]])\n"
     ]
    }
   ],
   "source": [
    "fin = P04.evalf(subs={q1:pi/6, q2:pi/6, q3:pi/6})\n",
    "print(fin)"
   ]
  },
  {
   "cell_type": "code",
   "execution_count": 94,
   "metadata": {
    "collapsed": true
   },
   "outputs": [],
   "source": [
    "fin = np.array([[4.96410161513775],\n",
    "                [6.59807621135332]],dtype=np.float64)"
   ]
  },
  {
   "cell_type": "code",
   "execution_count": 110,
   "metadata": {
    "collapsed": true
   },
   "outputs": [],
   "source": [
    "def fk(q1, q2, q3):\n",
    "    l1 = 4\n",
    "    l2 = 3\n",
    "    l3 = 2\n",
    "    return np.array([[4*np.cos(q1) + 3*np.cos(q1 + q2) + 2*np.cos(q1 + q2 + q3)],\n",
    "                     [4*np.sin(q1) + 3*np.sin(q1 + q2) + 2*np.sin(q1 + q2 + q3)]],dtype=np.float64)\n",
    "def JacT(q1, q2, q3):\n",
    "    l1 = 4\n",
    "    l2 = 3\n",
    "    l3 = 2\n",
    "    return np.array([[-l1*np.sin(q1) - l2*np.sin(q1 + q2) - l3*np.sin(q1 + q2 + q3), l1*np.cos(q1) + l2*np.cos(q1 + q2) + l3*cos(q1 + q2 + q3)], \n",
    "                     [-l2*np.sin(q1 + q2) - l3*np.sin(q1 + q2 + q3), l2*np.cos(q2 + q3) + l3*np.cos(q1 + q2 + q3)], \n",
    "                     [-l3*np.sin(q1 + q2 + q3), l3*np.cos(q1 + q2 + q3)]],dtype=np.float64)\n",
    "\n",
    "def error(q1, q2, q3):\n",
    "    return (fk(q1, q2, q3) - fin)\n",
    "def cost(q1, q2, q3):\n",
    "    return 0.5*np.linalg.norm(fk(q1, q2, q3) - fin)"
   ]
  },
  {
   "cell_type": "code",
   "execution_count": 125,
   "metadata": {
    "collapsed": true
   },
   "outputs": [],
   "source": [
    "q = np.array([[0.0],[0.0],[0.0]],dtype=np.float64)\n",
    "alpha = 0.01\n",
    "err = error(q[0,0],q[1,0],q[2,0])\n",
    "while cost(q[0,0],q[1,0],q[2,0]) > 0.0001:\n",
    "#for i in range(25):\n",
    "    q -= alpha*np.dot(JacT(q[0,0],q[1,0],q[2,0]),err)\n",
    "    err = error(q[0,0],q[1,0],q[2,0])\n",
    "    #print(cost(q[0,0],q[1,0],q[2,0]))"
   ]
  },
  {
   "cell_type": "code",
   "execution_count": 126,
   "metadata": {},
   "outputs": [
    {
     "data": {
      "text/plain": [
       "array([[ 29.43808397],\n",
       "       [ 31.91459936],\n",
       "       [ 27.43245377]])"
      ]
     },
     "execution_count": 126,
     "metadata": {},
     "output_type": "execute_result"
    }
   ],
   "source": [
    "np.rad2deg(q)"
   ]
  },
  {
   "cell_type": "code",
   "execution_count": 127,
   "metadata": {},
   "outputs": [
    {
     "data": {
      "text/plain": [
       "array([[ 4.9642031 ],\n",
       "       [ 6.59824344]])"
      ]
     },
     "execution_count": 127,
     "metadata": {},
     "output_type": "execute_result"
    }
   ],
   "source": [
    "fk(q[0,0],q[1,0],q[2,0])"
   ]
  },
  {
   "cell_type": "code",
   "execution_count": null,
   "metadata": {
    "collapsed": true
   },
   "outputs": [],
   "source": []
  }
 ],
 "metadata": {
  "kernelspec": {
   "display_name": "Python 2",
   "language": "python",
   "name": "python2"
  },
  "language_info": {
   "codemirror_mode": {
    "name": "ipython",
    "version": 2
   },
   "file_extension": ".py",
   "mimetype": "text/x-python",
   "name": "python",
   "nbconvert_exporter": "python",
   "pygments_lexer": "ipython2",
   "version": "2.7.12"
  },
  "widgets": {
   "state": {},
   "version": "1.1.2"
  }
 },
 "nbformat": 4,
 "nbformat_minor": 2
}
