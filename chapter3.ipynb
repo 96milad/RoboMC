{
 "cells": [
  {
   "cell_type": "code",
   "execution_count": 1,
   "metadata": {
    "collapsed": true
   },
   "outputs": [],
   "source": [
    "from sympy import *\n",
    "import numpy as np\n",
    "import transformations"
   ]
  },
  {
   "cell_type": "markdown",
   "metadata": {},
   "source": [
    "# problem 3.1"
   ]
  },
  {
   "cell_type": "code",
   "execution_count": 2,
   "metadata": {},
   "outputs": [
    {
     "name": "stdout",
     "output_type": "stream",
     "text": [
      "Matrix([\n",
      "[           cos(q),           -sin(q),           0,             a],\n",
      "[sin(q)*cos(alpha), cos(alpha)*cos(q), -sin(alpha), -d*sin(alpha)],\n",
      "[sin(alpha)*sin(q), sin(alpha)*cos(q),  cos(alpha),  d*cos(alpha)],\n",
      "[                0,                 0,           0,             1]])\n"
     ]
    }
   ],
   "source": [
    "### trans, rot in z dir.\n",
    "q = symbols('q')\n",
    "d = symbols('d')\n",
    "### trans, rot in x dir.\n",
    "a = symbols('a')\n",
    "alpha = symbols('alpha')\n",
    "\n",
    "rot_x = Matrix([[1,          0,          0, 0],\n",
    "                [0, cos(alpha),-sin(alpha), 0],\n",
    "                [0, sin(alpha), cos(alpha), 0],\n",
    "                [0,          0,          0, 1]])\n",
    "\n",
    "trans_x = Matrix([[1, 0, 0, a],\n",
    "                  [0, 1, 0, 0],\n",
    "                  [0, 0, 1, 0],\n",
    "                  [0, 0, 0, 1]])\n",
    "\n",
    "rot_z = Matrix([[cos(q), -sin(q), 0, 0],\n",
    "                [sin(q),  cos(q), 0, 0],\n",
    "                [     0,       0, 1, 0],\n",
    "                [     0,       0, 0, 1]])\n",
    "\n",
    "trans_z = Matrix([[1, 0, 0, 0],\n",
    "                  [0, 1, 0, 0],\n",
    "                  [0, 0, 1, d],\n",
    "                  [0, 0, 0, 1]])\n",
    "\n",
    "\n",
    "\n",
    "DH = simplify(trans_x * rot_x * trans_z * rot_z)\n",
    "print(DH)\n",
    "#DH = simplify(DH)\n"
   ]
  },
  {
   "cell_type": "code",
   "execution_count": 3,
   "metadata": {},
   "outputs": [
    {
     "name": "stdout",
     "output_type": "stream",
     "text": [
      "Matrix([\n",
      "[cos(q1 + q2 + q3), -sin(q1 + q2 + q3), 0, l1*cos(q1) + l2*cos(q1 + q2) + l3*cos(q1 + q2 + q3)],\n",
      "[sin(q1 + q2 + q3),  cos(q1 + q2 + q3), 0, l1*sin(q1) + l2*sin(q1 + q2) + l3*sin(q1 + q2 + q3)],\n",
      "[                0,                  0, 1,                                                   0],\n",
      "[                0,                  0, 0,                                                   1]])\n"
     ]
    }
   ],
   "source": [
    "def homo_trans(a, alpha, d, q):\n",
    "    return Matrix([[           cos(q),           -sin(q),           0,             a],\n",
    "                   [sin(q)*cos(alpha), cos(alpha)*cos(q), -sin(alpha), -d*sin(alpha)],\n",
    "                   [sin(alpha)*sin(q), sin(alpha)*cos(q),  cos(alpha),  d*cos(alpha)],\n",
    "                   [                0,                 0,           0,             1]])\n",
    "\n",
    "q1, q2, q3 = symbols('q1:4')\n",
    "l1, l2, l3 = symbols('l1:4')\n",
    "T01 = homo_trans(0, 0, 0, q1)\n",
    "T12 = homo_trans(l1, 0, 0, q2)\n",
    "T23 = homo_trans(l2, 0, 0, q3)\n",
    "T3ee = homo_trans(l3, 0, 0, 0)\n",
    "T0ee = simplify(T01 * T12 * T23 * T3ee)\n",
    "print(T0ee)"
   ]
  },
  {
   "cell_type": "markdown",
   "metadata": {},
   "source": [
    "# problem 3.3"
   ]
  },
  {
   "cell_type": "code",
   "execution_count": 4,
   "metadata": {},
   "outputs": [
    {
     "name": "stdout",
     "output_type": "stream",
     "text": [
      "Matrix([\n",
      "[cos(q1)*cos(q2 + q3), -sin(q2 + q3)*cos(q1),  sin(q1), (l1 + l2*cos(q2))*cos(q1)],\n",
      "[sin(q1)*cos(q2 + q3), -sin(q1)*sin(q2 + q3), -cos(q1), (l1 + l2*cos(q2))*sin(q1)],\n",
      "[        sin(q2 + q3),          cos(q2 + q3),        0,                l2*sin(q2)],\n",
      "[                   0,                     0,        0,                         1]])\n"
     ]
    }
   ],
   "source": [
    "d1 = symbols('d1')\n",
    "\n",
    "Tb1 = homo_trans(0, 0, 0, q1)\n",
    "T12 = homo_trans(l1, pi/2, 0, q2)\n",
    "T2w = homo_trans(l2, 0, 0, q3)\n",
    "\n",
    "Tbw = simplify(Tb1 * T12 * T2w)\n",
    "print(Tbw)"
   ]
  },
  {
   "cell_type": "markdown",
   "metadata": {
    "collapsed": true
   },
   "source": [
    "# P3.4 "
   ]
  },
  {
   "cell_type": "code",
   "execution_count": 5,
   "metadata": {},
   "outputs": [
    {
     "name": "stdout",
     "output_type": "stream",
     "text": [
      "Matrix([[cos(q1), -sin(q1), 0, 0], [sin(q1), cos(q1), 0, 0], [0, 0, 1, l1 + l2], [0, 0, 0, 1]])\n",
      "Matrix([[cos(q2), -sin(q2), 0, 0], [0, 0, -1, 0], [sin(q2), cos(q2), 0, 0], [0, 0, 0, 1]])\n",
      "Matrix([[cos(q3), -sin(q3), 0, l3], [sin(q3), cos(q3), 0, 0], [0, 0, 1, 0], [0, 0, 0, 1]])\n"
     ]
    }
   ],
   "source": [
    "l1, l2, l3, l4 = symbols('l1:5')\n",
    "q1, q2, q3 = symbols('q1:4')\n",
    "T01 = homo_trans(0,0,l1+l2,q1)\n",
    "T12 = homo_trans(0,pi/2,0,q2)\n",
    "T23 = homo_trans(l3,0,0,q3)\n",
    "T3ee = homo_trans(l4,0,0,0)\n",
    "print(T01)\n",
    "print(T12)\n",
    "print(T23)"
   ]
  },
  {
   "cell_type": "markdown",
   "metadata": {
    "collapsed": true
   },
   "source": [
    "# Matlab Exercise "
   ]
  },
  {
   "cell_type": "code",
   "execution_count": 19,
   "metadata": {},
   "outputs": [],
   "source": [
    "L1 = 4\n",
    "L2 = 3\n",
    "L3 = 2\n",
    "\n",
    "T01 = homo_trans(0.0, 0.0, 0.0, q1)\n",
    "T12 = homo_trans( L1, 0.0, 0.0, q2)\n",
    "T23 = homo_trans( L2, 0.0, 0.0, q3)\n",
    "T34 = homo_trans( L3, 0.0, 0.0,0.0)\n",
    "T04 = simplify(T01*T12*T23*T34)"
   ]
  },
  {
   "cell_type": "code",
   "execution_count": 21,
   "metadata": {},
   "outputs": [
    {
     "name": "stdout",
     "output_type": "stream",
     "text": [
      "Matrix([\n",
      "[cos(q1 + q2 + q3), -sin(q1 + q2 + q3), 0, 4*cos(q1) + 3*cos(q1 + q2) + 2*cos(q1 + q2 + q3)],\n",
      "[sin(q1 + q2 + q3),  cos(q1 + q2 + q3), 0, 4*sin(q1) + 3*sin(q1 + q2) + 2*sin(q1 + q2 + q3)],\n",
      "[                0,                  0, 1,                                                0],\n",
      "[                0,                  0, 0,                                                1]])\n"
     ]
    }
   ],
   "source": [
    "print(T04)"
   ]
  },
  {
   "cell_type": "code",
   "execution_count": 13,
   "metadata": {},
   "outputs": [
    {
     "data": {
      "text/plain": [
       "Matrix([\n",
       "[                  1.0, -2.56266636183437e-144,   0,     9.0],\n",
       "[2.56266636183437e-144,                    1.0,   0, 0.e-125],\n",
       "[                    0,                      0, 1.0,       0],\n",
       "[                    0,                      0,   0,     1.0]])"
      ]
     },
     "execution_count": 13,
     "metadata": {},
     "output_type": "execute_result"
    }
   ],
   "source": [
    "T04.evalf(subs={q1:0.0,q2:0.0,q3:0.0})"
   ]
  },
  {
   "cell_type": "code",
   "execution_count": 14,
   "metadata": {},
   "outputs": [
    {
     "data": {
      "text/plain": [
       "Matrix([\n",
       "[              0.5, -0.866025403784439,   0, 7.53730722340215],\n",
       "[0.866025403784439,                0.5,   0,  3.9266435182366],\n",
       "[                0,                  0, 1.0,                0],\n",
       "[                0,                  0,   0,              1.0]])"
      ]
     },
     "execution_count": 14,
     "metadata": {},
     "output_type": "execute_result"
    }
   ],
   "source": [
    "T04.evalf(subs={q1:np.deg2rad(10),q2:np.deg2rad(20),q3:np.deg2rad(30)})"
   ]
  },
  {
   "cell_type": "code",
   "execution_count": 15,
   "metadata": {},
   "outputs": [
    {
     "data": {
      "text/plain": [
       "Matrix([\n",
       "[-1.83697019872103e-16,                   1.0,   0, -3.0],\n",
       "[                 -1.0, -1.83697019872103e-16,   0,  2.0],\n",
       "[                    0,                     0, 1.0,    0],\n",
       "[                    0,                     0,   0,  1.0]])"
      ]
     },
     "execution_count": 15,
     "metadata": {},
     "output_type": "execute_result"
    }
   ],
   "source": [
    "T04.evalf(subs={q1:np.deg2rad(90),q2:np.deg2rad(90),q3:np.deg2rad(90)})"
   ]
  },
  {
   "cell_type": "code",
   "execution_count": null,
   "metadata": {
    "collapsed": true
   },
   "outputs": [],
   "source": []
  }
 ],
 "metadata": {
  "kernelspec": {
   "display_name": "Python 3",
   "language": "python",
   "name": "python3"
  },
  "language_info": {
   "codemirror_mode": {
    "name": "ipython",
    "version": 3
   },
   "file_extension": ".py",
   "mimetype": "text/x-python",
   "name": "python",
   "nbconvert_exporter": "python",
   "pygments_lexer": "ipython3",
   "version": "3.5.3"
  },
  "widgets": {
   "state": {},
   "version": "1.1.2"
  }
 },
 "nbformat": 4,
 "nbformat_minor": 2
}
